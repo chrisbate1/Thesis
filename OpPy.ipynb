{
 "cells": [
  {
   "cell_type": "code",
   "execution_count": 1,
   "metadata": {},
   "outputs": [],
   "source": [
    "import pandas as pd \n",
    "import numpy as np \n",
    "import seaborn as sns \n",
    "import matplotlib.pyplot as plt \n",
    "%matplotlib inline "
   ]
  },
  {
   "cell_type": "code",
   "execution_count": 76,
   "metadata": {},
   "outputs": [],
   "source": [
    "ops = pd.read_csv('AAPLOptions.csv')\n",
    "ops['price'] = (ops['best_bid'] + ops['best_offer']) / 2\n",
    "ops['strike_price'] = ops['strike_price'] / 1000"
   ]
  },
  {
   "cell_type": "code",
   "execution_count": 77,
   "metadata": {},
   "outputs": [],
   "source": [
    "ops = ops.drop(['ticker', 'forward_price', 'index_flag', 'exercise_style', 'issuer', 'optionid', 'impl_volatility'], axis=1)"
   ]
  },
  {
   "cell_type": "code",
   "execution_count": 78,
   "metadata": {},
   "outputs": [],
   "source": [
    "ops[['date', 'exdate']] = ops[['date', 'exdate']].apply(pd.to_datetime, format='%d/%m/%Y')"
   ]
  },
  {
   "cell_type": "code",
   "execution_count": 79,
   "metadata": {},
   "outputs": [],
   "source": [
    "ops['dtm'] = ops['exdate'] - ops['date']"
   ]
  },
  {
   "cell_type": "code",
   "execution_count": 80,
   "metadata": {},
   "outputs": [
    {
     "data": {
      "text/html": [
       "<div>\n",
       "<style scoped>\n",
       "    .dataframe tbody tr th:only-of-type {\n",
       "        vertical-align: middle;\n",
       "    }\n",
       "\n",
       "    .dataframe tbody tr th {\n",
       "        vertical-align: top;\n",
       "    }\n",
       "\n",
       "    .dataframe thead th {\n",
       "        text-align: right;\n",
       "    }\n",
       "</style>\n",
       "<table border=\"1\" class=\"dataframe\">\n",
       "  <thead>\n",
       "    <tr style=\"text-align: right;\">\n",
       "      <th></th>\n",
       "      <th>date</th>\n",
       "      <th>exdate</th>\n",
       "      <th>cp_flag</th>\n",
       "      <th>strike_price</th>\n",
       "      <th>best_bid</th>\n",
       "      <th>best_offer</th>\n",
       "      <th>price</th>\n",
       "      <th>dtm</th>\n",
       "    </tr>\n",
       "  </thead>\n",
       "  <tbody>\n",
       "    <tr>\n",
       "      <th>0</th>\n",
       "      <td>2012-09-04</td>\n",
       "      <td>2012-09-07</td>\n",
       "      <td>C</td>\n",
       "      <td>590.0</td>\n",
       "      <td>84.70</td>\n",
       "      <td>85.50</td>\n",
       "      <td>85.100</td>\n",
       "      <td>3 days</td>\n",
       "    </tr>\n",
       "    <tr>\n",
       "      <th>1</th>\n",
       "      <td>2012-09-04</td>\n",
       "      <td>2012-09-07</td>\n",
       "      <td>C</td>\n",
       "      <td>595.0</td>\n",
       "      <td>78.90</td>\n",
       "      <td>80.80</td>\n",
       "      <td>79.850</td>\n",
       "      <td>3 days</td>\n",
       "    </tr>\n",
       "    <tr>\n",
       "      <th>2</th>\n",
       "      <td>2012-09-04</td>\n",
       "      <td>2012-09-07</td>\n",
       "      <td>C</td>\n",
       "      <td>600.0</td>\n",
       "      <td>74.70</td>\n",
       "      <td>75.15</td>\n",
       "      <td>74.925</td>\n",
       "      <td>3 days</td>\n",
       "    </tr>\n",
       "    <tr>\n",
       "      <th>3</th>\n",
       "      <td>2012-09-04</td>\n",
       "      <td>2012-09-07</td>\n",
       "      <td>C</td>\n",
       "      <td>605.0</td>\n",
       "      <td>68.85</td>\n",
       "      <td>70.70</td>\n",
       "      <td>69.775</td>\n",
       "      <td>3 days</td>\n",
       "    </tr>\n",
       "    <tr>\n",
       "      <th>4</th>\n",
       "      <td>2012-09-04</td>\n",
       "      <td>2012-09-07</td>\n",
       "      <td>C</td>\n",
       "      <td>610.0</td>\n",
       "      <td>64.75</td>\n",
       "      <td>65.45</td>\n",
       "      <td>65.100</td>\n",
       "      <td>3 days</td>\n",
       "    </tr>\n",
       "  </tbody>\n",
       "</table>\n",
       "</div>"
      ],
      "text/plain": [
       "        date     exdate cp_flag  strike_price  best_bid  best_offer   price  \\\n",
       "0 2012-09-04 2012-09-07       C         590.0     84.70       85.50  85.100   \n",
       "1 2012-09-04 2012-09-07       C         595.0     78.90       80.80  79.850   \n",
       "2 2012-09-04 2012-09-07       C         600.0     74.70       75.15  74.925   \n",
       "3 2012-09-04 2012-09-07       C         605.0     68.85       70.70  69.775   \n",
       "4 2012-09-04 2012-09-07       C         610.0     64.75       65.45  65.100   \n",
       "\n",
       "     dtm  \n",
       "0 3 days  \n",
       "1 3 days  \n",
       "2 3 days  \n",
       "3 3 days  \n",
       "4 3 days  "
      ]
     },
     "execution_count": 80,
     "metadata": {},
     "output_type": "execute_result"
    }
   ],
   "source": [
    "ops.head()"
   ]
  },
  {
   "cell_type": "code",
   "execution_count": 81,
   "metadata": {},
   "outputs": [],
   "source": [
    "calls = ops[ops['cp_flag'] == 'C'].drop('cp_flag', axis=1).reset_index(drop=True)\n",
    "puts = ops[ops['cp_flag'] == 'P'].drop('cp_flag', axis=1).reset_index(drop=True)\n",
    "mostCalls = calls[calls['dtm'] == max(calls['dtm'])].drop('dtm', axis=1).reset_index(drop=True)\n",
    "mostPuts = puts[puts['dtm'] == max(puts['dtm'])].drop('dtm', axis=1).reset_index(drop=True)"
   ]
  },
  {
   "cell_type": "code",
   "execution_count": 90,
   "metadata": {},
   "outputs": [
    {
     "data": {
      "text/html": [
       "<div>\n",
       "<style scoped>\n",
       "    .dataframe tbody tr th:only-of-type {\n",
       "        vertical-align: middle;\n",
       "    }\n",
       "\n",
       "    .dataframe tbody tr th {\n",
       "        vertical-align: top;\n",
       "    }\n",
       "\n",
       "    .dataframe thead th {\n",
       "        text-align: right;\n",
       "    }\n",
       "</style>\n",
       "<table border=\"1\" class=\"dataframe\">\n",
       "  <thead>\n",
       "    <tr style=\"text-align: right;\">\n",
       "      <th></th>\n",
       "      <th>date</th>\n",
       "      <th>exdate</th>\n",
       "      <th>strike_price</th>\n",
       "      <th>best_bid</th>\n",
       "      <th>best_offer</th>\n",
       "      <th>price</th>\n",
       "    </tr>\n",
       "  </thead>\n",
       "  <tbody>\n",
       "    <tr>\n",
       "      <th>0</th>\n",
       "      <td>2019-01-15</td>\n",
       "      <td>2021-06-18</td>\n",
       "      <td>100.0</td>\n",
       "      <td>56.05</td>\n",
       "      <td>61.0</td>\n",
       "      <td>58.525</td>\n",
       "    </tr>\n",
       "    <tr>\n",
       "      <th>1</th>\n",
       "      <td>2019-01-15</td>\n",
       "      <td>2021-06-18</td>\n",
       "      <td>105.0</td>\n",
       "      <td>52.05</td>\n",
       "      <td>57.0</td>\n",
       "      <td>54.525</td>\n",
       "    </tr>\n",
       "    <tr>\n",
       "      <th>2</th>\n",
       "      <td>2019-01-15</td>\n",
       "      <td>2021-06-18</td>\n",
       "      <td>110.0</td>\n",
       "      <td>48.55</td>\n",
       "      <td>53.5</td>\n",
       "      <td>51.025</td>\n",
       "    </tr>\n",
       "    <tr>\n",
       "      <th>3</th>\n",
       "      <td>2019-01-15</td>\n",
       "      <td>2021-06-18</td>\n",
       "      <td>115.0</td>\n",
       "      <td>45.50</td>\n",
       "      <td>50.0</td>\n",
       "      <td>47.750</td>\n",
       "    </tr>\n",
       "    <tr>\n",
       "      <th>4</th>\n",
       "      <td>2019-01-15</td>\n",
       "      <td>2021-06-18</td>\n",
       "      <td>120.0</td>\n",
       "      <td>42.00</td>\n",
       "      <td>47.0</td>\n",
       "      <td>44.500</td>\n",
       "    </tr>\n",
       "  </tbody>\n",
       "</table>\n",
       "</div>"
      ],
      "text/plain": [
       "        date     exdate  strike_price  best_bid  best_offer   price\n",
       "0 2019-01-15 2021-06-18         100.0     56.05        61.0  58.525\n",
       "1 2019-01-15 2021-06-18         105.0     52.05        57.0  54.525\n",
       "2 2019-01-15 2021-06-18         110.0     48.55        53.5  51.025\n",
       "3 2019-01-15 2021-06-18         115.0     45.50        50.0  47.750\n",
       "4 2019-01-15 2021-06-18         120.0     42.00        47.0  44.500"
      ]
     },
     "execution_count": 90,
     "metadata": {},
     "output_type": "execute_result"
    }
   ],
   "source": [
    "firstCall = mostCalls[mostCalls['exdate'] == mostCalls['exdate'].iloc[0]]\n",
    "firstCall.sort_values('date')\n",
    "firstCall.head()"
   ]
  },
  {
   "cell_type": "code",
   "execution_count": 136,
   "metadata": {},
   "outputs": [
    {
     "data": {
      "text/plain": [
       "<matplotlib.collections.PathCollection at 0x1a77d84310>"
      ]
     },
     "execution_count": 136,
     "metadata": {},
     "output_type": "execute_result"
    },
    {
     "data": {
      "image/png": "[encoded data removed]",
      "text/plain": [
       "<Figure size 432x288 with 1 Axes>"
      ]
     },
     "metadata": {
      "needs_background": "light"
     },
     "output_type": "display_data"
    }
   ],
   "source": [
    "plt.scatter(firstCall['strike_price'], firstCall['price'])"
   ]
  },
  {
   "cell_type": "code",
   "execution_count": 137,
   "metadata": {},
   "outputs": [],
   "source": [
    "def coskew(df):\n",
    "    v = df.values\n",
    "    s1 = sigma = v.std(0, keepdims=True)\n",
    "    means = v.mean(0, keepdims=True)\n",
    "\n",
    "    # means is 1 x n (n is number of columns\n",
    "    # this difference broacasts appropriately\n",
    "    v1 = v - means\n",
    "\n",
    "    s2 = sigma ** 2\n",
    "\n",
    "    v2 = v1 ** 2\n",
    "\n",
    "    m = v.shape[0]\n",
    "\n",
    "    skew = pd.DataFrame(v2.T.dot(v1) / s2.T.dot(s1) / m, df.columns, df.columns)\n",
    "    skew *= ((m - 1) * m) ** .5 / (m - 2)\n",
    "\n",
    "    return skew"
   ]
  },
  {
   "cell_type": "code",
   "execution_count": 139,
   "metadata": {},
   "outputs": [],
   "source": [
    "def cokurt(df, bias=False, variant='middle'):\n",
    "    v = df.values\n",
    "    s1 = sigma = v.std(0, keepdims=True)\n",
    "    means = v.mean(0, keepdims=True)\n",
    "\n",
    "    # means is 1 x n (n is number of columns\n",
    "    # this difference broacasts appropriately\n",
    "    v1 = v - means\n",
    "\n",
    "    s2 = sigma ** 2\n",
    "    s3 = sigma ** 3\n",
    "\n",
    "    v2 = v1 ** 2\n",
    "    v3 = v1 ** 3\n",
    "\n",
    "    m = v.shape[0]\n",
    "\n",
    "    if variant in ['left', 'right']:\n",
    "        kurt = pd.DataFrame(v3.T.dot(v1) / s3.T.dot(s1) / m, df.columns, df.columns)\n",
    "        if variant == 'right':\n",
    "            kurt = kurt.T\n",
    "    elif variant == 'middle':\n",
    "        kurt = pd.DataFrame(v2.T.dot(v2) / s2.T.dot(s2) / m, df.columns, df.columns)\n",
    "\n",
    "    if not bias:\n",
    "        kurt = kurt * (m ** 2 - 1) / (m - 2) / (m - 3) - 3 * (m - 1) ** 2 / (m - 2) / (m - 3)\n",
    "    \n",
    "    kurt += 3\n",
    "\n",
    "    return kurt"
   ]
  },
  {
   "cell_type": "code",
   "execution_count": null,
   "metadata": {},
   "outputs": [],
   "source": []
  }
 ],
 "metadata": {
  "kernelspec": {
   "display_name": "Python 3",
   "language": "python",
   "name": "python3"
  },
  "language_info": {
   "codemirror_mode": {
    "name": "ipython",
    "version": 3
   },
   "file_extension": ".py",
   "mimetype": "text/x-python",
   "name": "python",
   "nbconvert_exporter": "python",
   "pygments_lexer": "ipython3",
   "version": "3.7.6"
  }
 },
 "nbformat": 4,
 "nbformat_minor": 4
}
